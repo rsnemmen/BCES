{
 "cells": [
  {
   "cell_type": "markdown",
   "metadata": {},
   "source": [
    "Examples of how to use the BCES fitting code\n",
    "===================\n",
    "\n",
    "BCES python module [available on Github](https://github.com/rsnemmen/BCES)."
   ]
  },
  {
   "cell_type": "code",
   "execution_count": 5,
   "metadata": {},
   "outputs": [
    {
     "name": "stdout",
     "output_type": "stream",
     "text": [
      "Populating the interactive namespace from numpy and matplotlib\n"
     ]
    }
   ],
   "source": [
    "%pylab inline"
   ]
  },
  {
   "cell_type": "code",
   "execution_count": 6,
   "metadata": {},
   "outputs": [
    {
     "name": "stdout",
     "output_type": "stream",
     "text": [
      "/Users/nemmen/Dropbox/codes/python/bces\n"
     ]
    }
   ],
   "source": [
    "cd '/Users/nemmen/Dropbox/codes/python/bces'"
   ]
  },
  {
   "cell_type": "code",
   "execution_count": 7,
   "metadata": {
    "scrolled": true
   },
   "outputs": [],
   "source": [
    "import bces.bces as BCES"
   ]
  },
  {
   "cell_type": "markdown",
   "metadata": {},
   "source": [
    "# Example 1\n",
    "\n",
    "In this example, the data contains uncertainties on both $x$ and $y$; no correlation between uncertainties. These are real astronomical data for blazars from [this paper](http://science.sciencemag.org/content/338/6113/1445.full). "
   ]
  },
  {
   "cell_type": "code",
   "execution_count": 8,
   "metadata": {},
   "outputs": [],
   "source": [
    "data=load('data.npz')\n",
    "xdata=data['x']\n",
    "ydata=data['y']\n",
    "errx=data['errx']\n",
    "erry=data['erry']\n",
    "cov=data['cov']"
   ]
  },
  {
   "cell_type": "markdown",
   "metadata": {},
   "source": [
    "The regression line is $y = Ax + B$. `covab` is the resulting covariance matrix which can be used to draw confidence regions."
   ]
  },
  {
   "cell_type": "code",
   "execution_count": 9,
   "metadata": {},
   "outputs": [],
   "source": [
    "# number of bootstrapping trials\n",
    "nboot=10000"
   ]
  },
  {
   "cell_type": "code",
   "execution_count": 10,
   "metadata": {},
   "outputs": [
    {
     "name": "stdout",
     "output_type": "stream",
     "text": [
      "BCES, 10000 trials... \n",
      "1.511468 s\n",
      "CPU times: user 35.8 ms, sys: 102 ms, total: 138 ms\n",
      "Wall time: 1.54 s\n"
     ]
    }
   ],
   "source": [
    "%%time\n",
    "# Performs the BCES fit in parallel\n",
    "a,b,erra,errb,covab=BCES.bcesp(xdata,errx,ydata,erry,cov,nboot)"
   ]
  },
  {
   "cell_type": "markdown",
   "metadata": {},
   "source": [
    "## Selecting the fitting method\n",
    "\n",
    "Select the desired BCES method by setting the variable `bcesMethod`. The available methods are:\n",
    "\n",
    "| Value  | Method  |  Description |\n",
    "|---|---| --- |\n",
    "| 0  | $y|x$  | Assumes $x$ as the independent variable |\n",
    "| 1  |  $x|y$ | Assumes $y$ as the independent variable |\n",
    "| 2  | bissector  | Line that bisects the $y|x$ and $x|y$. *Do not use this method*, cf. [Hogg, D. et al. 2010, arXiv:1008.4686](http://labs.adsabs.harvard.edu/adsabs/abs/2010arXiv1008.4686H/). |\n",
    "| 3  | orthogonal  | Orthogonal least squares: line that minimizes orthogonal distances. Should be used when it is not clear which variable should be treated as the independent one |\n",
    "\n",
    "As usual, please read the [original BCES paper](http://labs.adsabs.harvard.edu/adsabs/abs/1996ApJ...470..706A/) to understand what these different lines mean."
   ]
  },
  {
   "cell_type": "code",
   "execution_count": 11,
   "metadata": {},
   "outputs": [],
   "source": [
    "bcesMethod=0"
   ]
  },
  {
   "cell_type": "code",
   "execution_count": 12,
   "metadata": {
    "scrolled": true
   },
   "outputs": [
    {
     "data": {
      "text/plain": [
       "Text(0, 0.5, '$y$')"
      ]
     },
     "execution_count": 12,
     "metadata": {},
     "output_type": "execute_result"
    },
    {
     "data": {
      "image/png": "[encoded data removed]",
      "text/plain": [
       "<Figure size 432x288 with 1 Axes>"
      ]
     },
     "metadata": {
      "needs_background": "light"
     },
     "output_type": "display_data"
    }
   ],
   "source": [
    "errorbar(xdata,ydata,xerr=errx,yerr=erry,fmt='o')\n",
    "x=numpy.linspace(xdata.min(),xdata.max())\n",
    "plot(x,a[bcesMethod]*x+b[bcesMethod],'-k',label=\"BCES $y|x$\")\n",
    "\n",
    "legend()\n",
    "xlabel('$x$')\n",
    "ylabel('$y$')"
   ]
  },
  {
   "cell_type": "markdown",
   "metadata": {},
   "source": [
    "## Confidence band\n",
    "\n",
    "Suppose you want to include in the plot a visual estimate of the uncertainty on the fit. This is called the confidence band. For example, the $3\\sigma$ confidence interval is 99.7% sure to contain the best-fit regression line. Note that this is *not* the same as saying it will contain 99.7% of the data points. For more information, [check this out](http://www.jerrydallal.com/LHSP/slr.htm).\n",
    "\n",
    "In order to plot the confidence band, you will need to [install the `nmmn` package](https://github.com/rsnemmen/nmmn#installation) and another dependency: \n",
    "\n",
    "    pip install nmmn numdifftools\n",
    "\n",
    "After installing the package, follow the instructions below to plot the confidence band of your fit.\n",
    "\n",
    "First we define convenient arrays that encapsulate the fit parameters and their uncertainties—including the covariance."
   ]
  },
  {
   "cell_type": "code",
   "execution_count": 14,
   "metadata": {},
   "outputs": [],
   "source": [
    "# array with best-fit parameters\n",
    "fitm=numpy.array([ a[bcesMethod],b[bcesMethod] ])\t\n",
    "# covariance matrix of parameter uncertainties\n",
    "covm=numpy.array([ (erra[bcesMethod]**2,covab[bcesMethod]), (covab[bcesMethod],errb[bcesMethod]**2) ])\t\n",
    "\n",
    "# convenient function for a line\n",
    "def func(x): return x[1]*x[0]+x[2]"
   ]
  },
  {
   "cell_type": "markdown",
   "metadata": {},
   "source": [
    "Now we estimate the $3\\sigma$ confidence band using one of the methods in the `nmmn.stats` module. If you want the $1\\sigma$ band instead, just change the 7th argument of `confbandnl` to `0.68`."
   ]
  },
  {
   "cell_type": "code",
   "execution_count": 21,
   "metadata": {
    "scrolled": true
   },
   "outputs": [],
   "source": [
    "import nmmn.stats\n",
    "\n",
    "# Gets lower and upper bounds on the confidence band \n",
    "lcb,ucb,x=nmmn.stats.confbandnl(xdata,ydata,func,fitm,covm,2,0.997,x)"
   ]
  },
  {
   "cell_type": "markdown",
   "metadata": {},
   "source": [
    "Finally, the plot with the confidence band displayed in orange. Even at $3\\sigma$, it is still very narrow for this dataset."
   ]
  },
  {
   "cell_type": "code",
   "execution_count": 22,
   "metadata": {},
   "outputs": [
    {
     "data": {
      "text/plain": [
       "Text(0.5, 1.0, 'Data, fit and confidence band')"
      ]
     },
     "execution_count": 22,
     "metadata": {},
     "output_type": "execute_result"
    },
    {
     "data": {
      "image/png": "[encoded data removed]",
      "text/plain": [
       "<Figure size 432x288 with 1 Axes>"
      ]
     },
     "metadata": {
      "needs_background": "light"
     },
     "output_type": "display_data"
    }
   ],
   "source": [
    "errorbar(xdata,ydata,xerr=errx,yerr=erry,fmt='o')\n",
    "plot(x,a[bcesMethod]*x+b[bcesMethod],'-k',label=\"BCES $y|x$\")\n",
    "fill_between(x, lcb, ucb, alpha=0.3, facecolor='orange')\n",
    "\n",
    "legend(loc='best')\n",
    "xlabel('$x$')\n",
    "ylabel('$y$')\n",
    "title(\"Data, fit and confidence band\")"
   ]
  },
  {
   "cell_type": "markdown",
   "metadata": {},
   "source": [
    "# Example 2\n",
    "\n",
    "Fake data with random uncertainties in $x$ and $y$"
   ]
  },
  {
   "cell_type": "markdown",
   "metadata": {},
   "source": [
    "Prepares fake data"
   ]
  },
  {
   "cell_type": "code",
   "execution_count": 23,
   "metadata": {},
   "outputs": [],
   "source": [
    "x=np.arange(1,20)\n",
    "y=3*x + 4\n",
    "\n",
    "xer=np.sqrt((x- np.random.normal(x))**2)\n",
    "yer=np.sqrt((y- np.random.normal(y))**2)\n",
    "\n",
    "y=numpy.random.normal(y)\n",
    "x=numpy.random.normal(x)"
   ]
  },
  {
   "cell_type": "code",
   "execution_count": 25,
   "metadata": {},
   "outputs": [],
   "source": [
    "# simple linear regression\n",
    "(aa,bb)=np.polyfit(x,y,deg=1)\n",
    "yfit=x*aa+bb"
   ]
  },
  {
   "cell_type": "code",
   "execution_count": 26,
   "metadata": {
    "scrolled": true
   },
   "outputs": [
    {
     "name": "stdout",
     "output_type": "stream",
     "text": [
      "BCES, 10000 trials... \n",
      "1.326839 s\n"
     ]
    }
   ],
   "source": [
    "# BCES fit\n",
    "cov=zeros(len(x))   # no correlation between error measurements\n",
    "nboot=10000   # number of bootstrapping trials\n",
    "a,b,aerr,berr,covab=BCES.bcesp(x,xer,y,yer,cov,nboot)"
   ]
  },
  {
   "cell_type": "markdown",
   "metadata": {},
   "source": [
    "The integer corresponds to the desired BCES method for plotting (3-ort, 0-y|x, 1-x|y, *don't use bissector*)"
   ]
  },
  {
   "cell_type": "code",
   "execution_count": 35,
   "metadata": {},
   "outputs": [],
   "source": [
    "bcesMethod=3\n",
    "ybces=a[bcesMethod]*x+b[bcesMethod]"
   ]
  },
  {
   "cell_type": "code",
   "execution_count": 36,
   "metadata": {
    "scrolled": false
   },
   "outputs": [
    {
     "data": {
      "text/plain": [
       "Text(0, 0.5, '$y$')"
      ]
     },
     "execution_count": 36,
     "metadata": {},
     "output_type": "execute_result"
    },
    {
     "data": {
      "image/png": "[encoded data removed]",
      "text/plain": [
       "<Figure size 432x288 with 1 Axes>"
      ]
     },
     "metadata": {
      "needs_background": "light"
     },
     "output_type": "display_data"
    }
   ],
   "source": [
    "errorbar(x,y,xer,yer,fmt='o',ls='None')\n",
    "plot(x,yfit,label='Simple regression')\n",
    "plot(x,ybces,label='BCES orthogonal')\n",
    "\n",
    "legend()\n",
    "xlabel('$x$')\n",
    "ylabel('$y$')"
   ]
  },
  {
   "cell_type": "markdown",
   "metadata": {},
   "source": [
    "## Confidence band\n",
    "\n",
    "Again, make sure you install the [`nmmn`](https://github.com/rsnemmen/nmmn#installation) package before proceeding."
   ]
  },
  {
   "cell_type": "code",
   "execution_count": 37,
   "metadata": {},
   "outputs": [],
   "source": [
    "# array with best-fit parameters\n",
    "fitm=numpy.array([ a[bcesMethod],b[bcesMethod] ])\t\n",
    "# covariance matrix of parameter uncertainties\n",
    "covm=numpy.array([ (aerr[bcesMethod]**2,covab[bcesMethod]), (covab[bcesMethod],berr[bcesMethod]**2) ])\t"
   ]
  },
  {
   "cell_type": "markdown",
   "metadata": {},
   "source": [
    "Now we estimate the $2\\sigma$ confidence band using one of the methods in the `nmmn.stats` module."
   ]
  },
  {
   "cell_type": "code",
   "execution_count": 38,
   "metadata": {
    "scrolled": true
   },
   "outputs": [],
   "source": [
    "# Gets lower and upper bounds on the confidence band \n",
    "lcb,ucb,xcb=nmmn.stats.confbandnl(x,y,func,fitm,covm,2,0.954,x)"
   ]
  },
  {
   "cell_type": "markdown",
   "metadata": {},
   "source": [
    "Finally, the plot where the confidence band is displayed in orange. As you can see, it is very narrow."
   ]
  },
  {
   "cell_type": "code",
   "execution_count": 41,
   "metadata": {},
   "outputs": [
    {
     "data": {
      "text/plain": [
       "Text(0.5, 1.0, 'Data, fit and confidence band')"
      ]
     },
     "execution_count": 41,
     "metadata": {},
     "output_type": "execute_result"
    },
    {
     "data": {
      "image/png": "[encoded data removed]",
      "text/plain": [
       "<Figure size 432x288 with 1 Axes>"
      ]
     },
     "metadata": {
      "needs_background": "light"
     },
     "output_type": "display_data"
    }
   ],
   "source": [
    "errorbar(x,y,xerr=xer,yerr=yer,fmt='o')\n",
    "plot(xcb,a[bcesMethod]*xcb+b[bcesMethod],'-k',label=\"BCES orthogonal\")\n",
    "fill_between(xcb, lcb, ucb, alpha=0.3, facecolor='orange')\n",
    "\n",
    "legend(loc='best')\n",
    "xlabel('$x$')\n",
    "ylabel('$y$')\n",
    "title(\"Data, fit and confidence band\")"
   ]
  }
 ],
 "metadata": {
  "anaconda-cloud": {},
  "kernelspec": {
   "display_name": "Python 3",
   "language": "python",
   "name": "python3"
  },
  "language_info": {
   "codemirror_mode": {
    "name": "ipython",
    "version": 3
   },
   "file_extension": ".py",
   "mimetype": "text/x-python",
   "name": "python",
   "nbconvert_exporter": "python",
   "pygments_lexer": "ipython3",
   "version": "3.8.5"
  }
 },
 "nbformat": 4,
 "nbformat_minor": 1
}
